{
 "cells": [
  {
   "cell_type": "code",
   "execution_count": 2,
   "metadata": {},
   "outputs": [
    {
     "name": "stdout",
     "output_type": "stream",
     "text": [
      "Requirement already satisfied: openpyxl in c:\\users\\jkoun\\appdata\\local\\programs\\python\\python311\\lib\\site-packages (3.1.2)\n",
      "Requirement already satisfied: et-xmlfile in c:\\users\\jkoun\\appdata\\local\\programs\\python\\python311\\lib\\site-packages (from openpyxl) (1.1.0)\n"
     ]
    }
   ],
   "source": [
    "!pip install openpyxl"
   ]
  },
  {
   "cell_type": "code",
   "execution_count": 3,
   "metadata": {
    "id": "qwnGVSyRZkKI"
   },
   "outputs": [],
   "source": [
    "import pandas as pd;\n",
    "import numpy as np;\n",
    "import matplotlib.pyplot as plt\n",
    "from sklearn import preprocessing, svm\n",
    "from sklearn.model_selection import train_test_split\n",
    "from sklearn.linear_model import LinearRegression\n",
    "from sklearn.metrics import accuracy_score\n",
    "from sklearn.metrics import r2_score\n",
    "from sklearn.metrics import mean_squared_error\n",
    "from sklearn.metrics import mean_absolute_error\n",
    "from math import sqrt\n",
    "from math import pow"
   ]
  },
  {
   "cell_type": "code",
   "execution_count": 4,
   "metadata": {
    "id": "t0MmAWbBbQH3"
   },
   "outputs": [
    {
     "name": "stdout",
     "output_type": "stream",
     "text": [
      "<class 'pandas.core.frame.DataFrame'>\n",
      "RangeIndex: 1475 entries, 1 to 1475\n",
      "Data columns (total 3 columns):\n",
      " #   Column       Non-Null Count  Dtype  \n",
      "---  ------       --------------  -----  \n",
      " 0   temperature  1475 non-null   int64  \n",
      " 1   voltage      1475 non-null   float64\n",
      " 2   out_voltage  1475 non-null   float64\n",
      "dtypes: float64(2), int64(1)\n",
      "memory usage: 34.7 KB\n"
     ]
    }
   ],
   "source": [
    "headers = [\"temperature\",\"voltage\",\"out_voltage\"]\n",
    "data = pd.read_excel('NewData.xlsx', na_values='?',    \n",
    "         header=None,names = headers) \n",
    "data = data.reset_index(drop=True)\n",
    "data = data.iloc[1:] \n",
    "data= data.dropna()\n",
    "data.head()\n",
    "data.info()"
   ]
  },
  {
   "cell_type": "code",
   "execution_count": 5,
   "metadata": {},
   "outputs": [
    {
     "name": "stdout",
     "output_type": "stream",
     "text": [
      "<class 'pandas.core.frame.DataFrame'>\n",
      "RangeIndex: 1475 entries, 1 to 1475\n",
      "Data columns (total 3 columns):\n",
      " #   Column       Non-Null Count  Dtype  \n",
      "---  ------       --------------  -----  \n",
      " 0   temperature  1475 non-null   int64  \n",
      " 1   voltage      1475 non-null   float64\n",
      " 2   out_voltage  1475 non-null   float64\n",
      "dtypes: float64(2), int64(1)\n",
      "memory usage: 34.7 KB\n"
     ]
    }
   ],
   "source": [
    "data['temperature'] = pd.to_numeric(data['temperature'],errors = 'coerce')\n",
    "data['voltage']= pd.to_numeric(data['voltage'],errors = 'coerce')\n",
    "data['out_voltage'] = pd.to_numeric(data['out_voltage'],errors = 'coerce')\n",
    "data.info()"
   ]
  },
  {
   "cell_type": "code",
   "execution_count": 6,
   "metadata": {},
   "outputs": [
    {
     "name": "stdout",
     "output_type": "stream",
     "text": [
      "[[26.          1.31662959]\n",
      " [27.          1.31183037]\n",
      " [28.          1.30705493]\n",
      " [29.          1.30230309]\n",
      " [30.          1.29757464]\n",
      " [31.          1.29286941]\n",
      " [32.          1.28818721]\n",
      " [33.          1.28352785]\n",
      " [34.          1.27889114]\n",
      " [35.          1.27427692]]\n",
      "[10. 10. 10. 10. 10. 10. 10. 10. 10. 10.]\n"
     ]
    }
   ],
   "source": [
    "x = data.drop(['out_voltage'],axis=1).values\n",
    "y = data['out_voltage'].values\n",
    "print(x[:10])\n",
    "print(y[:10])"
   ]
  },
  {
   "cell_type": "code",
   "execution_count": 7,
   "metadata": {},
   "outputs": [],
   "source": [
    "from sklearn.model_selection import train_test_split\n",
    "x_train, x_test, y_train, y_test = train_test_split(x, y, test_size=0.2)"
   ]
  },
  {
   "cell_type": "code",
   "execution_count": 8,
   "metadata": {},
   "outputs": [
    {
     "name": "stdout",
     "output_type": "stream",
     "text": [
      "1180\n",
      "1180\n",
      "295\n",
      "295\n",
      "[[28.          1.61490217]\n",
      " [60.          1.53223353]\n",
      " [37.          1.61958782]\n",
      " [51.          1.20336639]\n",
      " [60.          1.31694979]]\n",
      "[[48.          1.61296835]\n",
      " [59.          1.36352867]\n",
      " [55.          1.33936159]\n",
      " [43.          1.57732523]\n",
      " [31.          1.43189203]]\n"
     ]
    }
   ],
   "source": [
    "print(len(x_train))\n",
    "print(len(y_train))\n",
    "print(len(x_test))\n",
    "print(len(y_test))\n",
    "print(x_train[:5])\n",
    "print(x_test[:5])"
   ]
  },
  {
   "cell_type": "code",
   "execution_count": 9,
   "metadata": {
    "colab": {
     "base_uri": "https://localhost:8080/"
    },
    "id": "4uXLWr02juwd",
    "outputId": "c7edd190-e873-40af-e8d1-bc2dba0a9326"
   },
   "outputs": [
    {
     "name": "stdout",
     "output_type": "stream",
     "text": [
      "[13.64679482 11.84457155 11.43786086 13.08816346 11.19373165]\n"
     ]
    },
    {
     "data": {
      "text/plain": [
       "array([0.04581787, 9.24560122])"
      ]
     },
     "execution_count": 9,
     "metadata": {},
     "output_type": "execute_result"
    }
   ],
   "source": [
    "# X = np.array(usefuldata).reshape(-1, 1);\n",
    "# y = np.array(Aero_useful2).reshape(-1, 1);\n",
    "# X_train, X_test, y_train, y_test = train_test_split(X, y, test_size = 0.25);\n",
    "regr = LinearRegression()\n",
    "  \n",
    "regr.fit(x_train, y_train)\n",
    "predicted_outcome = regr.predict(x_test)\n",
    "# print(y_test);\n",
    "print(predicted_outcome[:5])\n",
    "regr.coef_"
   ]
  },
  {
   "cell_type": "code",
   "execution_count": 10,
   "metadata": {
    "id": "pKs9DmyEnppe"
   },
   "outputs": [
    {
     "data": {
      "text/plain": [
       "array([ 0.00000000e+00, -5.89139639e-03,  4.02593665e+00,  2.65463971e-05,\n",
       "        3.39135283e-02,  1.29683836e+00])"
      ]
     },
     "execution_count": 10,
     "metadata": {},
     "output_type": "execute_result"
    }
   ],
   "source": [
    "# trying polynomial regression\n",
    "\n",
    "from sklearn.preprocessing import PolynomialFeatures\n",
    "from sklearn.pipeline import make_pipeline\n",
    "from sklearn.metrics import accuracy_score\n",
    "\n",
    "poly_reg = PolynomialFeatures(degree = 2)\n",
    "x_poly = poly_reg.fit_transform(x_train)\n",
    "lin_reg_2=LinearRegression().fit(x_poly, y_train)\n",
    "y_pred = lin_reg_2.predict(poly_reg.fit_transform(x_test)) #this line is not necessary. It's just a predict for test data\n",
    "# print(pred);\n",
    "\n",
    "lin_reg_2.coef_"
   ]
  },
  {
   "cell_type": "code",
   "execution_count": 11,
   "metadata": {},
   "outputs": [
    {
     "name": "stdout",
     "output_type": "stream",
     "text": [
      "[13.00004784 12.7001387  13.29981933 12.49973366 10.5005279  10.30033102\n",
      " 10.99949307 10.39938641 12.80015226 13.39956264]\n"
     ]
    }
   ],
   "source": [
    "print(y_pred[14:24])"
   ]
  },
  {
   "cell_type": "code",
   "execution_count": 12,
   "metadata": {},
   "outputs": [
    {
     "name": "stdout",
     "output_type": "stream",
     "text": [
      "[13.  12.7 13.3 12.5 10.5 10.3 11.  10.4 12.8 13.4]\n"
     ]
    }
   ],
   "source": [
    "print(y_test[14:24])"
   ]
  },
  {
   "cell_type": "code",
   "execution_count": 13,
   "metadata": {},
   "outputs": [
    {
     "name": "stdout",
     "output_type": "stream",
     "text": [
      "Mean squared error     : 7.468299824515242e-07\n",
      "Root Mean squared error: 0.0008641932552684753\n",
      "Mean Absolute error    : 0.0006430266819208019\n",
      "R2 score    : 99.99994840008509\n"
     ]
    }
   ],
   "source": [
    "# y_pred = model.predict(x_test)\n",
    "\n",
    "# print(y_pred*scale)\n",
    "MSE=mean_squared_error(y_test, y_pred)\n",
    "print(\"Mean squared error     :\", MSE)\n",
    "\n",
    "RMSE=sqrt(mean_squared_error(y_test, y_pred))\n",
    "print(\"Root Mean squared error:\", RMSE)\n",
    "\n",
    "MAE=mean_absolute_error(y_test, y_pred)\n",
    "print(\"Mean Absolute error    :\", MAE)\n",
    "\n",
    "print(\"R2 score    :\", 100*r2_score(y_test,  y_pred))"
   ]
  },
  {
   "cell_type": "code",
   "execution_count": 14,
   "metadata": {},
   "outputs": [],
   "source": [
    "input_temp = 30\n",
    "input_voltage = 12\n",
    "input_temp = float(input_temp)\n",
    "input_voltage = float(input_voltage)\n",
    "weights_linear = regr.coef_\n",
    "bias_linear = regr.intercept_\n",
    "# Y= bias + θ1X1 + θ2X2\n",
    "weights_poly = lin_reg_2.coef_\n",
    "bias_poly = lin_reg_2.intercept_\n",
    "# Y= bias + θ1X1 + θ2X2\n",
    "# similar to above equation do it for polynomial of degree 2\n",
    "# Y= bias + θ1X1 + θ2X2 + θ3X1^2 + θ4X1X2 + θ5X2^2\n",
    "# # similar to above equation do it for polynomial of degree 5\n",
    "# Y= bias + θ1X1 + θ2X2 + θ3X1^2 + θ4X1X2 + θ5X2^2 + θ6X1^3 + θ7X1^2X2 + θ8X1X2^2 + θ9X2^3 + θ10X1^4 + θ11X1^3X2 + θ12X1^2X2^2 + θ13X1X2^3 + θ14X2^4 + θ15X1^5 + θ16X1^4X2 + θ17X1^3X2^2 + θ18X1^2X2^3 + θ19X1X2^4 + θ20X2^5"
   ]
  },
  {
   "cell_type": "code",
   "execution_count": 15,
   "metadata": {},
   "outputs": [
    {
     "name": "stdout",
     "output_type": "stream",
     "text": [
      "out_voltage_poly:  521.3309863769377\n",
      "out_voltage_linear:  108.85642572811071\n"
     ]
    }
   ],
   "source": [
    "# out_voltage_poly = weights_poly[0]+weights_poly[1]*input_temp+weights_poly[2]*input_voltage+weights_poly[3]*pow(input_temp,2)+weights_poly[4]*pow(input_voltage,2)+weights_poly[5]*input_temp*input_voltage+bias_poly\n",
    "\n",
    "# do this for degree 2\n",
    "out_voltage_poly  = weights_poly[0]+weights_poly[1]*input_temp+weights_poly[2]*input_voltage+weights_poly[3]*pow(input_temp,2)+weights_poly[4]*pow(input_voltage,2)+weights_poly[5]*input_temp*input_voltage+bias_poly\n",
    "\n",
    "# do this for degree 5\n",
    "# out_voltage_poly = weights_poly[0]+weights_poly[1]*input_temp+weights_poly[2]*input_voltage+weights_poly[3]*pow(input_temp,2)+weights_poly[4]*pow(input_voltage,2)+weights_poly[5]*input_temp*input_voltage+weights_poly[6]*pow(input_temp,3)+weights_poly[7]*pow(input_temp,2)*input_voltage+weights_poly[8]*input_temp*pow(input_voltage,2)+weights_poly[9]*pow(input_voltage,3)+weights_poly[10]*pow(input_temp,4)+weights_poly[11]*pow(input_temp,3)*input_voltage+weights_poly[12]*pow(input_temp,2)*pow(input_voltage,2)+weights_poly[13]*input_temp*pow(input_voltage,3)+weights_poly[14]*pow(input_voltage,4)+weights_poly[15]*pow(input_temp,5)+weights_poly[16]*pow(input_temp,4)*input_voltage+weights_poly[17]*pow(input_temp,3)*pow(input_voltage,2)+weights_poly[18]*pow(input_temp,2)*pow(input_voltage,3)+weights_poly[19]*input_temp*pow(input_voltage,4)+weights_poly[20]*pow(input_voltage,5)+bias_poly\n",
    "\n",
    "out_voltage_linear = weights_linear[0]*input_temp+weights_linear[1]*input_voltage+bias_linear\n",
    "print(\"out_voltage_poly: \",out_voltage_poly)\n",
    "print(\"out_voltage_linear: \",out_voltage_linear)"
   ]
  },
  {
   "cell_type": "code",
   "execution_count": 16,
   "metadata": {},
   "outputs": [
    {
     "name": "stdout",
     "output_type": "stream",
     "text": [
      "weights and bias with linear regression\n",
      "weights:  [0.04581787 9.24560122]\n",
      "bias:  -3.4653249227461185\n",
      "weights and bias with polynomial regression\n",
      "weights:  [ 0.00000000e+00 -5.89139639e-03  4.02593665e+00  2.65463971e-05\n",
      "  3.39135283e-02  1.29683836e+00]\n",
      "bias:  1.4272408716245053\n"
     ]
    }
   ],
   "source": [
    "weights = regr.coef_\n",
    "bias = regr.intercept_\n",
    "print(\"weights and bias with linear regression\")\n",
    "print(\"weights: \",weights)\n",
    "print(\"bias: \",bias)\n",
    "\n",
    "weights = lin_reg_2.coef_\n",
    "bias = lin_reg_2.intercept_\n",
    "print(\"weights and bias with polynomial regression\")\n",
    "print(\"weights: \",weights)\n",
    "print(\"bias: \",bias)\n",
    "# Y= θ0+θ1X1+θ2X2 +θ3X1^2+θ4X2^2+θ5X1X2"
   ]
  },
  {
   "cell_type": "code",
   "execution_count": null,
   "metadata": {},
   "outputs": [],
   "source": []
  }
 ],
 "metadata": {
  "colab": {
   "provenance": []
  },
  "kernelspec": {
   "display_name": "Python 3 (ipykernel)",
   "language": "python",
   "name": "python3"
  },
  "language_info": {
   "codemirror_mode": {
    "name": "ipython",
    "version": 3
   },
   "file_extension": ".py",
   "mimetype": "text/x-python",
   "name": "python",
   "nbconvert_exporter": "python",
   "pygments_lexer": "ipython3",
   "version": "3.11.2"
  },
  "vscode": {
   "interpreter": {
    "hash": "31f2aee4e71d21fbe5cf8b01ff0e069b9275f58929596ceb00d14d90e3e16cd6"
   }
  }
 },
 "nbformat": 4,
 "nbformat_minor": 1
}
